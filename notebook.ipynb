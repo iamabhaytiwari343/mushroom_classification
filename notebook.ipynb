{
 "cells": [
  {
   "cell_type": "code",
   "execution_count": 6,
   "metadata": {},
   "outputs": [],
   "source": [
    "import numpy as np # linear algebra\n",
    "import pandas as pd # data processing, CSV file I/O (e.g. pd.read_csv)"
   ]
  },
  {
   "cell_type": "code",
   "execution_count": 7,
   "metadata": {},
   "outputs": [],
   "source": [
    "train=pd.read_csv('train.csv')\n",
    "test=pd.read_csv('test.csv')"
   ]
  },
  {
   "cell_type": "code",
   "execution_count": null,
   "metadata": {},
   "outputs": [],
   "source": [
    "def cleaning(df, threshold=100):\n",
    "    cat_feats = [\"cap-shape\", \"cap-surface\", \"cap-color\", \"does-bruise-or-bleed\", \"gill-attachment\",\n",
    "                 \"gill-spacing\", \"gill-color\", \"stem-root\", \"stem-surface\", \"stem-color\", \"veil-type\",\n",
    "                 \"veil-color\", \"has-ring\", \"ring-type\", \"spore-print-color\", \"habitat\", \"season\"]\n",
    "\n",
    "    for feat in cat_feats:\n",
    "        # Fill missing values with 'missing'\n",
    "        df[feat] = df[feat].fillna('missing')\n",
    "        \n",
    "        # Replace categories with low counts with 'noise'\n",
    "        counts = df[feat].value_counts(dropna=False)\n",
    "        low_count_cats = counts[counts < threshold].index\n",
    "        if len(low_count_cats) > 0:\n",
    "            df.loc[df[feat].isin(low_count_cats), feat] = \"noise\"\n",
    "        \n",
    "        # Convert column to categorical type\n",
    "        df[feat] = df[feat].astype('category')\n",
    "    \n",
    "    return df\n",
    "tra = cleaning(train)\n",
    "tes = cleaning(test)"
   ]
  },
  {
   "cell_type": "code",
   "execution_count": null,
   "metadata": {},
   "outputs": [],
   "source": [
    "tra.head()"
   ]
  }
 ],
 "metadata": {
  "kernelspec": {
   "display_name": "Python 3",
   "language": "python",
   "name": "python3"
  },
  "language_info": {
   "codemirror_mode": {
    "name": "ipython",
    "version": 3
   },
   "file_extension": ".py",
   "mimetype": "text/x-python",
   "name": "python",
   "nbconvert_exporter": "python",
   "pygments_lexer": "ipython3",
   "version": "3.8.10"
  }
 },
 "nbformat": 4,
 "nbformat_minor": 2
}
